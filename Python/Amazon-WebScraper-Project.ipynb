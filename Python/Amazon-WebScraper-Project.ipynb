{
 "cells": [
  {
   "cell_type": "markdown",
   "id": "f57790ad-1154-4d32-9484-1ba4983df7dc",
   "metadata": {},
   "source": [
    "# Amazon Web Scraper Project\n",
    "- In the project we are extracting the data (name and price) of a amazon product\n",
    "- Then we created a csv file to write this extracted data\n",
    "- So everytime there is new data, it will append into the csv file\n",
    "- We also added autonomus data update, meaning the data will be updated every day\n",
    "- In this way we can for instance check the price of that product every day, helpful to know if we are planning to buy that product in cheaper price\n",
    "- We can also add a automation where we receive automatic email when the price of that product is reduced to our desired range"
   ]
  },
  {
   "cell_type": "code",
   "execution_count": 309,
   "id": "a66dfccb-38b2-4807-9e6b-428bb4a57d67",
   "metadata": {},
   "outputs": [],
   "source": [
    "# Importing libraries\n",
    "from bs4 import BeautifulSoup\n",
    "import requests\n",
    "import time\n",
    "import datetime\n",
    "\n",
    "import smtplib\n"
   ]
  },
  {
   "cell_type": "code",
   "execution_count": null,
   "id": "3e0fcc49-7d2a-457d-a91b-2d5588c3c102",
   "metadata": {},
   "outputs": [],
   "source": [
    "# Connect to website\n",
    "url = 'https://www.amazon.com/Riot-Society-Tropical-Skeleton-Flamingo/dp/B07RZWNGTW/ref=sr_1_37?crid=2EK72TNUI0ROY&dib=eyJ2IjoiMSJ9.YKIk9sObmjEa9zhkaUFJTXPFX3oIDko8p-4l7nRQYNInZ_FhBXw3QfxhFgATcvjSdqx5biRquERdIEQiOxvjkD8nD2XRhYe92IJEA4xtAy3DSIIZuYSLzID90AWezAO0hGvk66KtExLz5_4H_65ejSgLxjR_My8Cu99_PwJKVQ7K-pJ3k56Vh0jVRvbOVh_RquO9Ds7lrUtYZiLEPxIM2k8BAM14ilxge-55bC9A8j8wYCuW8XF1RRBW9a_fg4njH43d6muiCsEJCUx1Q3eRXz7us1VjZjKGktCRLc57rbSmaQ61_weYCen_9H4DrnU21xtpb1ZLR1nunc9_dLsOux7FyIjf9Hhbl-_2VrUq-wU5mGARLWDWWTxTiueRXiz5aS9Zrkpz6tOc2xU8GGTiCvb1BD3BCYQyT2lKlQ6XnVgt6slX_fzFnFjEV2O8DSvO.gpWsEmU5VTVnsNVoGuyMLycbimZiV011MX6Mk-IVLR4&dib_tag=se&keywords=cool+tshirts&qid=1742464860&sprefix=cool+tshirt%2Caps%2C183&sr=8-37'\n",
    "\n",
    "# Headers info is obtained from : https://httpbin.org/get\n",
    "# The headers help mimic a real browser and request JSON, preventing blocking and ensuring correct response formatting.\n",
    "headers = {\"User-Agent\": \"Mozilla/5.0 (Macintosh; Intel Mac OS X 10_15_7) AppleWebKit/537.36 (KHTML, like Gecko) Chrome/134.0.0.0 Safari/537.36\", \"Accept-Encoding\": \"gzip, deflate\", \"Accept\": \"text/html,application/xhtml+xml,application/xml;q=0.9\", \"DNT\":\"1\",\"Connection\":\"close\", \"Upgrade-Insecure-Requests\":\"1\"}\n",
    "\n",
    "page = requests.get(url, headers = headers)\n",
    "\n",
    "soup1 = BeautifulSoup(page.content, \"html\")\n",
    "soup2 = BeautifulSoup(soup1.prettify(), \"html\")\n",
    "\n",
    "title = soup2.find(id = 'productTitle').get_text()\n",
    "price = soup2.find(class_ = 'a-offscreen').get_text()\n",
    "\n",
    "print(title)\n",
    "print(price)"
   ]
  },
  {
   "cell_type": "code",
   "execution_count": 327,
   "id": "1f124eee-d260-4df3-b7db-09f86f4b32cc",
   "metadata": {},
   "outputs": [
    {
     "name": "stdout",
     "output_type": "stream",
     "text": [
      "Riot Society Men's Short Sleeve Graphic Fashion T-Shirt\n",
      "9\n"
     ]
    }
   ],
   "source": [
    "# cleaning data\n",
    "price = price.strip()[1:]\n",
    "title = title.strip()\n",
    "\n",
    "print(title)\n",
    "print(price)"
   ]
  },
  {
   "cell_type": "code",
   "execution_count": 279,
   "id": "83f0bbf6-53a5-45fc-8af4-59f321b2c61f",
   "metadata": {},
   "outputs": [
    {
     "name": "stdout",
     "output_type": "stream",
     "text": [
      "2025-03-20\n"
     ]
    }
   ],
   "source": [
    "# We want todays date so that will be date of data collection\n",
    "import datetime\n",
    "today = datetime.date.today()\n",
    "print(today)"
   ]
  },
  {
   "cell_type": "code",
   "execution_count": 281,
   "id": "440dbd7a-3dd6-4d97-aaee-84147881dbef",
   "metadata": {},
   "outputs": [],
   "source": [
    "# steps: create csv, insert the cleaned data into csv, and create a process to append more data into that csv\n",
    "import csv\n",
    "header = ['Title', 'Price', 'Date']\n",
    "data = [title, price, today]\n",
    "\n",
    "#create csv : this creates csv file in our device\n",
    "# 'w' argument specifies write mode\n",
    "# newline='' ensures that Python doesn’t add an extra newline when writing to the file, which is important when writing CSV files\n",
    "# encoding='UTF8' specifies the character encoding to use when opening the file\n",
    "\n",
    "#RUN THIS ONLY ONE TIME:so i am commenting out after first run\n",
    "#with open('AmazonWebScraperDataset.csv', 'w', newline='', encoding = 'UTF8') as f:\n",
    "#    writer = csv.writer(f)\n",
    "#    writer.writerow(header)\n",
    "#    writer.writerow(data)"
   ]
  },
  {
   "cell_type": "code",
   "execution_count": null,
   "id": "54eca478-f870-4834-a77d-de19d70dccba",
   "metadata": {},
   "outputs": [],
   "source": [
    "# reading the csv file created here so that we dont need to go and check every time the new data is updated in csv file\n",
    "import pandas as pd\n",
    "df = pd.read_csv(r'/Users/shree/AmazonWebScraperDataset.csv')\n",
    "print(df)"
   ]
  },
  {
   "cell_type": "code",
   "execution_count": 285,
   "id": "fe9fb889-bee2-48de-b727-c7554a4cee82",
   "metadata": {},
   "outputs": [],
   "source": [
    "# Appending data to the csv\n",
    "# 'a+' argument specifies append mode\n",
    "with open('AmazonWebScraperDataset.csv', 'a+', newline='', encoding = 'UTF8') as f:\n",
    "    writer = csv.writer(f)\n",
    "    writer.writerow(data)"
   ]
  },
  {
   "cell_type": "code",
   "execution_count": 287,
   "id": "353c7060-af42-48e1-aa44-b749f08d9b44",
   "metadata": {},
   "outputs": [],
   "source": [
    "# Putting everything that we did above in a function\n",
    "def check_price():\n",
    "    url = 'https://www.amazon.com/Riot-Society-Tropical-Skeleton-Flamingo/dp/B07RZWNGTW/ref=sr_1_37?crid=2EK72TNUI0ROY&dib=eyJ2IjoiMSJ9.YKIk9sObmjEa9zhkaUFJTXPFX3oIDko8p-4l7nRQYNInZ_FhBXw3QfxhFgATcvjSdqx5biRquERdIEQiOxvjkD8nD2XRhYe92IJEA4xtAy3DSIIZuYSLzID90AWezAO0hGvk66KtExLz5_4H_65ejSgLxjR_My8Cu99_PwJKVQ7K-pJ3k56Vh0jVRvbOVh_RquO9Ds7lrUtYZiLEPxIM2k8BAM14ilxge-55bC9A8j8wYCuW8XF1RRBW9a_fg4njH43d6muiCsEJCUx1Q3eRXz7us1VjZjKGktCRLc57rbSmaQ61_weYCen_9H4DrnU21xtpb1ZLR1nunc9_dLsOux7FyIjf9Hhbl-_2VrUq-wU5mGARLWDWWTxTiueRXiz5aS9Zrkpz6tOc2xU8GGTiCvb1BD3BCYQyT2lKlQ6XnVgt6slX_fzFnFjEV2O8DSvO.gpWsEmU5VTVnsNVoGuyMLycbimZiV011MX6Mk-IVLR4&dib_tag=se&keywords=cool+tshirts&qid=1742464860&sprefix=cool+tshirt%2Caps%2C183&sr=8-37'\n",
    "    \n",
    "    headers = {\"User-Agent\": \"Mozilla/5.0 (Macintosh; Intel Mac OS X 10_15_7) AppleWebKit/537.36 (KHTML, like Gecko) Chrome/134.0.0.0 Safari/537.36\", \"Accept-Encoding\": \"gzip, deflate\", \"Accept\": \"text/html,application/xhtml+xml,application/xml;q=0.9\", \"DNT\":\"1\",\"Connection\":\"close\", \"Upgrade-Insecure-Requests\":\"1\"}\n",
    "\n",
    "    page = requests.get(url, headers = headers)\n",
    "\n",
    "    soup1 = BeautifulSoup(page.content, \"html\")\n",
    "    soup2 = BeautifulSoup(soup1.prettify(), \"html\")\n",
    "\n",
    "    title = soup2.find(id = 'productTitle').get_text()\n",
    "    price = soup2.find(class_ = 'a-offscreen').get_text()\n",
    "\n",
    "    price = price.strip()[1:]\n",
    "    title = title.strip()\n",
    "\n",
    "    import datetime\n",
    "    today = datetime.date.today()\n",
    "\n",
    "    import csv\n",
    "    header = ['Title', 'Price', 'Date']\n",
    "    data = [title, price, today]\n",
    "\n",
    "    with open('AmazonWebScraperDataset.csv', 'a+', newline='', encoding = 'UTF8') as f:\n",
    "        writer = csv.writer(f)\n",
    "        writer.writerow(data)\n",
    "\n",
    "    # Extra: If you want to get email \n",
    "    #if(price < 20):\n",
    "    #    send_mail()\n",
    "\n"
   ]
  },
  {
   "cell_type": "code",
   "execution_count": null,
   "id": "507e2721-df31-4b3b-b357-65a4dc296121",
   "metadata": {},
   "outputs": [],
   "source": [
    "# Putting the above function into a timer\n",
    "# every 86400  second, meaning every day the data will be updated in csv file\n",
    "while(True):\n",
    "    check_price()\n",
    "    time.sleep(86400)"
   ]
  },
  {
   "cell_type": "code",
   "execution_count": null,
   "id": "851c4296-cc00-4ae1-bc1e-50f188a2cf8d",
   "metadata": {},
   "outputs": [],
   "source": [
    "# reading the csv file created here so that we dont need to go and check every time the new data is updated in csv file\n",
    "import pandas as pd\n",
    "df = pd.read_csv(r'/Users/shree/AmazonWebScraperDataset.csv')\n",
    "print(df)"
   ]
  },
  {
   "cell_type": "code",
   "execution_count": null,
   "id": "d1aab0e8-fa69-427f-9cbb-4022250445a7",
   "metadata": {},
   "outputs": [],
   "source": []
  },
  {
   "cell_type": "code",
   "execution_count": null,
   "id": "74ca34d7-29c7-4dce-9fdd-9c0286e09c5b",
   "metadata": {},
   "outputs": [],
   "source": [
    "# Extra:\n",
    "# If you want to try sending yourself an email (just for fun) when a price hits below a certain level you can try it\n",
    "# out with this script\n",
    "\n",
    "def send_mail():\n",
    "    server = smtplib.SMTP_SSL('smtp.gmail.com',465)\n",
    "    server.ehlo()\n",
    "    #server.starttls()\n",
    "    server.ehlo()\n",
    "    server.login('bhusalshree55@gmail.com','xxxxxxxxxxxxxx')\n",
    "    \n",
    "    subject = \"The Shirt you want is below $15! Now is your chance to buy!\"\n",
    "    body = \"Shree, This is the moment we have been waiting for. Now is your chance to pick up the shirt of your dreams. Don't mess it up! Link here: https://www.amazon.com/Riot-Society-Tropical-Skeleton-Flamingo/dp/B07RZWNGTW/ref=sr_1_37?crid=2EK72TNUI0ROY&dib=eyJ2IjoiMSJ9.YKIk9sObmjEa9zhkaUFJTXPFX3oIDko8p-4l7nRQYNInZ_FhBXw3QfxhFgATcvjSdqx5biRquERdIEQiOxvjkD8nD2XRhYe92IJEA4xtAy3DSIIZuYSLzID90AWezAO0hGvk66KtExLz5_4H_65ejSgLxjR_My8Cu99_PwJKVQ7K-pJ3k56Vh0jVRvbOVh_RquO9Ds7lrUtYZiLEPxIM2k8BAM14ilxge-55bC9A8j8wYCuW8XF1RRBW9a_fg4njH43d6muiCsEJCUx1Q3eRXz7us1VjZjKGktCRLc57rbSmaQ61_weYCen_9H4DrnU21xtpb1ZLR1nunc9_dLsOux7FyIjf9Hhbl-_2VrUq-wU5mGARLWDWWTxTiueRXiz5aS9Zrkpz6tOc2xU8GGTiCvb1BD3BCYQyT2lKlQ6XnVgt6slX_fzFnFjEV2O8DSvO.gpWsEmU5VTVnsNVoGuyMLycbimZiV011MX6Mk-IVLR4&dib_tag=se&keywords=cool+tshirts&qid=1742464860&sprefix=cool+tshirt%2Caps%2C183&sr=8-37\n",
    "    msg = f\"Subject: {subject}\\n\\n{body}\"\n",
    "    \n",
    "    server.sendmail(\n",
    "        'bhusalshree55@gmail.com',\n",
    "        msg\n",
    "     \n",
    "    )"
   ]
  },
  {
   "cell_type": "code",
   "execution_count": null,
   "id": "0390a1fd-c908-490d-9135-1da0df58e899",
   "metadata": {},
   "outputs": [],
   "source": []
  }
 ],
 "metadata": {
  "kernelspec": {
   "display_name": "Python 3 (ipykernel)",
   "language": "python",
   "name": "python3"
  },
  "language_info": {
   "codemirror_mode": {
    "name": "ipython",
    "version": 3
   },
   "file_extension": ".py",
   "mimetype": "text/x-python",
   "name": "python",
   "nbconvert_exporter": "python",
   "pygments_lexer": "ipython3",
   "version": "3.12.7"
  }
 },
 "nbformat": 4,
 "nbformat_minor": 5
}
